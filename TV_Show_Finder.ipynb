{
 "cells": [
  {
   "cell_type": "code",
   "execution_count": 1,
   "id": "unnecessary-chocolate",
   "metadata": {},
   "outputs": [],
   "source": [
    "import pandas as pd\n",
    "from pandas import DataFrame"
   ]
  },
  {
   "cell_type": "code",
   "execution_count": 2,
   "id": "human-destiny",
   "metadata": {},
   "outputs": [],
   "source": [
    "df = pd.read_csv('tv_shows_final.csv')\n",
    "#Let's change the 100/100 votes to 99/100 for practical reasons\n",
    "df = df.replace('100/100','99/100')\n",
    "#Check for Tv series that are not available through Netflix, Prime Video or Disney+. This 'extra' series are going to be separated from the rest.\n",
    "extra = df.loc[(df['Netflix']== 0) & (df['Prime Video']== 0) & (df['Disney+']== 0)]"
   ]
  },
  {
   "cell_type": "code",
   "execution_count": 3,
   "id": "reserved-density",
   "metadata": {},
   "outputs": [],
   "source": [
    "#A dataframe with all the types of Tv series' genres\n",
    "genres = df['genres'].unique().tolist()\n",
    "genres = DataFrame (genres, columns=['Genres'])"
   ]
  },
  {
   "cell_type": "code",
   "execution_count": 4,
   "id": "separate-fisher",
   "metadata": {},
   "outputs": [
    {
     "data": {
      "text/html": [
       "<div>\n",
       "<style scoped>\n",
       "    .dataframe tbody tr th:only-of-type {\n",
       "        vertical-align: middle;\n",
       "    }\n",
       "\n",
       "    .dataframe tbody tr th {\n",
       "        vertical-align: top;\n",
       "    }\n",
       "\n",
       "    .dataframe thead th {\n",
       "        text-align: right;\n",
       "    }\n",
       "</style>\n",
       "<table border=\"1\" class=\"dataframe\">\n",
       "  <thead>\n",
       "    <tr style=\"text-align: right;\">\n",
       "      <th></th>\n",
       "      <th>Genres</th>\n",
       "    </tr>\n",
       "  </thead>\n",
       "  <tbody>\n",
       "    <tr>\n",
       "      <th>179</th>\n",
       "      <td>Action,Comedy,History</td>\n",
       "    </tr>\n",
       "    <tr>\n",
       "      <th>137</th>\n",
       "      <td>Comedy,Horror,Sci-Fi</td>\n",
       "    </tr>\n",
       "    <tr>\n",
       "      <th>231</th>\n",
       "      <td>Adventure,Fantasy,War</td>\n",
       "    </tr>\n",
       "    <tr>\n",
       "      <th>28</th>\n",
       "      <td>Adventure,Comedy,Crime</td>\n",
       "    </tr>\n",
       "    <tr>\n",
       "      <th>106</th>\n",
       "      <td>Game-Show</td>\n",
       "    </tr>\n",
       "    <tr>\n",
       "      <th>380</th>\n",
       "      <td>Action,Fantasy,Sci-Fi</td>\n",
       "    </tr>\n",
       "    <tr>\n",
       "      <th>273</th>\n",
       "      <td>Adventure,Documentary,Reality-TV</td>\n",
       "    </tr>\n",
       "    <tr>\n",
       "      <th>76</th>\n",
       "      <td>Comedy,Mystery</td>\n",
       "    </tr>\n",
       "    <tr>\n",
       "      <th>323</th>\n",
       "      <td>Adventure,Family,Fantasy</td>\n",
       "    </tr>\n",
       "    <tr>\n",
       "      <th>56</th>\n",
       "      <td>Action,Adventure,Sci-Fi</td>\n",
       "    </tr>\n",
       "    <tr>\n",
       "      <th>384</th>\n",
       "      <td>Comedy,Sci-Fi,Talk-Show</td>\n",
       "    </tr>\n",
       "    <tr>\n",
       "      <th>296</th>\n",
       "      <td>Adventure,Comedy,Reality-TV</td>\n",
       "    </tr>\n",
       "    <tr>\n",
       "      <th>84</th>\n",
       "      <td>Documentary,Sport</td>\n",
       "    </tr>\n",
       "    <tr>\n",
       "      <th>189</th>\n",
       "      <td>Action,Animation,History</td>\n",
       "    </tr>\n",
       "    <tr>\n",
       "      <th>225</th>\n",
       "      <td>Horror,Mystery,Short</td>\n",
       "    </tr>\n",
       "  </tbody>\n",
       "</table>\n",
       "</div>"
      ],
      "text/plain": [
       "                               Genres\n",
       "179             Action,Comedy,History\n",
       "137              Comedy,Horror,Sci-Fi\n",
       "231             Adventure,Fantasy,War\n",
       "28             Adventure,Comedy,Crime\n",
       "106                         Game-Show\n",
       "380             Action,Fantasy,Sci-Fi\n",
       "273  Adventure,Documentary,Reality-TV\n",
       "76                     Comedy,Mystery\n",
       "323          Adventure,Family,Fantasy\n",
       "56            Action,Adventure,Sci-Fi\n",
       "384           Comedy,Sci-Fi,Talk-Show\n",
       "296       Adventure,Comedy,Reality-TV\n",
       "84                  Documentary,Sport\n",
       "189          Action,Animation,History\n",
       "225              Horror,Mystery,Short"
      ]
     },
     "execution_count": 4,
     "metadata": {},
     "output_type": "execute_result"
    }
   ],
   "source": [
    "#There are a lot of different genres. So in order for the user to know the genres to look for, we are going to sample 15 of them as reference.\n",
    "genres.sample(15)"
   ]
  },
  {
   "cell_type": "code",
   "execution_count": 5,
   "id": "twenty-storm",
   "metadata": {},
   "outputs": [
    {
     "name": "stdin",
     "output_type": "stream",
     "text": [
      "What kind of genre are you interested in? [Warning: case sensitive]  Drama\n"
     ]
    }
   ],
   "source": [
    "genre = input('What kind of genre are you interested in? [Warning: case sensitive] ')"
   ]
  },
  {
   "cell_type": "code",
   "execution_count": 6,
   "id": "seeing-illustration",
   "metadata": {},
   "outputs": [],
   "source": [
    "filter = df['genres'].str.contains(genre)\n",
    "df = df[filter]"
   ]
  },
  {
   "cell_type": "code",
   "execution_count": 7,
   "id": "rural-pendant",
   "metadata": {},
   "outputs": [],
   "source": [
    "#No musical!\n",
    "filter = ~df['genres'].str.contains('Musical')\n",
    "df = df[filter]"
   ]
  },
  {
   "cell_type": "code",
   "execution_count": 8,
   "id": "heavy-rubber",
   "metadata": {},
   "outputs": [],
   "source": [
    "#IMDB and Rotten Tomatoes' votes must be float type\n",
    "df['IMDb']=df['IMDb'].str[0:3]\n",
    "df['IMDb']=df['IMDb'].astype(float)\n",
    "df['Rotten Tomatoes']=df['Rotten Tomatoes'].str[0:2]\n",
    "df['Rotten Tomatoes']=df['Rotten Tomatoes'].astype(int)\n",
    "df['Rotten Tomatoes'] /=10"
   ]
  },
  {
   "cell_type": "code",
   "execution_count": 9,
   "id": "expensive-romantic",
   "metadata": {},
   "outputs": [],
   "source": [
    "#The rating column is an average of RT and IMDB votes\n",
    "df['Rating'] = (df['IMDb']+df['Rotten Tomatoes'])/2\n",
    "df['Rating'] = df['Rating'].round(2)"
   ]
  },
  {
   "cell_type": "code",
   "execution_count": 10,
   "id": "english-extraction",
   "metadata": {},
   "outputs": [],
   "source": [
    "#The only columns that matters are Title and Rating\n",
    "col = ['Title', 'Rating']"
   ]
  },
  {
   "cell_type": "code",
   "execution_count": 11,
   "id": "liable-minutes",
   "metadata": {},
   "outputs": [],
   "source": [
    "#Netflix\n",
    "Netflix_df=df.loc[df['Netflix']==1]\n",
    "Netflix_df = Netflix_df[col]\n",
    "Netflix_df.sort_values(by='Rating', ascending=False, inplace=True)"
   ]
  },
  {
   "cell_type": "code",
   "execution_count": 12,
   "id": "resistant-space",
   "metadata": {},
   "outputs": [],
   "source": [
    "#Prime Video\n",
    "PV_df=df.loc[df['Prime Video']==1]\n",
    "PV_df = PV_df[col]\n",
    "PV_df.sort_values(by='Rating', ascending=False, inplace=True)"
   ]
  },
  {
   "cell_type": "code",
   "execution_count": 13,
   "id": "wired-coaching",
   "metadata": {},
   "outputs": [],
   "source": [
    "#Disney+\n",
    "Disney_df=df.loc[df['Disney+']==1]\n",
    "Disney_df = Disney_df[col]\n",
    "Disney_df.sort_values(by='Rating', ascending=False, inplace=True)"
   ]
  },
  {
   "cell_type": "code",
   "execution_count": 14,
   "id": "outer-boards",
   "metadata": {},
   "outputs": [],
   "source": [
    "#Now for the 'extra' dataframe:"
   ]
  },
  {
   "cell_type": "code",
   "execution_count": 15,
   "id": "atlantic-berlin",
   "metadata": {},
   "outputs": [
    {
     "name": "stderr",
     "output_type": "stream",
     "text": [
      "<ipython-input-15-c645d3e049c6>:18: SettingWithCopyWarning: \n",
      "A value is trying to be set on a copy of a slice from a DataFrame\n",
      "\n",
      "See the caveats in the documentation: https://pandas.pydata.org/pandas-docs/stable/user_guide/indexing.html#returning-a-view-versus-a-copy\n",
      "  Extra_df.sort_values(by='Rating', ascending=False, inplace=True)\n"
     ]
    }
   ],
   "source": [
    "filter = extra['genres'].str.contains(genre)\n",
    "extra = extra[filter]\n",
    "\n",
    "filter = ~extra['genres'].str.contains('Musical')\n",
    "extra = extra[filter]\n",
    "\n",
    "extra['IMDb']=extra['IMDb'].str[0:3]\n",
    "extra['IMDb']=extra['IMDb'].astype(float)\n",
    "extra['Rotten Tomatoes']=extra['Rotten Tomatoes'].str[0:2]\n",
    "extra['Rotten Tomatoes']=extra['Rotten Tomatoes'].astype(int)\n",
    "extra['Rotten Tomatoes'] /=10\n",
    "\n",
    "extra['Rating'] = (extra['IMDb']+extra['Rotten Tomatoes'])/2\n",
    "extra['Rating'] = extra['Rating'].round(2)\n",
    "col = ['Title', 'Rating']\n",
    "\n",
    "Extra_df = extra[col]\n",
    "Extra_df.sort_values(by='Rating', ascending=False, inplace=True)"
   ]
  },
  {
   "cell_type": "code",
   "execution_count": 16,
   "id": "unavailable-reduction",
   "metadata": {},
   "outputs": [],
   "source": [
    "#The result of the analysis is going to be saved as an excel file. The file name is the same as the genre been chosen."
   ]
  },
  {
   "cell_type": "code",
   "execution_count": 18,
   "id": "unsigned-lying",
   "metadata": {},
   "outputs": [],
   "source": [
    "with pd.ExcelWriter(f'{genre}.xlsx') as file:\n",
    "    Netflix_df.to_excel(file, sheet_name='Netflix', index=False) #Sheet for Netflix Series\n",
    "    PV_df.to_excel(file, sheet_name='Prime Video', index=False) #Sheet for Prime Video Series\n",
    "    Disney_df.to_excel(file, sheet_name='Disney +', index=False) #Sheet for Disney+ Series\n",
    "    Extra_df.to_excel(file, sheet_name='Extra', index=False) #Sheet for the 'Extra' Series"
   ]
  }
 ],
 "metadata": {
  "kernelspec": {
   "display_name": "Python 3",
   "language": "python",
   "name": "python3"
  },
  "language_info": {
   "codemirror_mode": {
    "name": "ipython",
    "version": 3
   },
   "file_extension": ".py",
   "mimetype": "text/x-python",
   "name": "python",
   "nbconvert_exporter": "python",
   "pygments_lexer": "ipython3",
   "version": "3.8.6"
  }
 },
 "nbformat": 4,
 "nbformat_minor": 5
}
